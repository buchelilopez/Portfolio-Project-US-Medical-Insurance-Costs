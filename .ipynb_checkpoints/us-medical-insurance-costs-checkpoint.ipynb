{
 "cells": [
  {
   "cell_type": "markdown",
   "metadata": {},
   "source": [
    "# U.S. Medical Insurance Costs"
   ]
  },
  {
   "cell_type": "markdown",
   "metadata": {},
   "source": [
    "### Data structure\n",
    "The .csv file is \"really\" separated by comas, so there is no need to use another delimiter.\n",
    "It has 7 different columns age, sex, bmi, children, smoker, region and charges"
   ]
  },
  {
   "cell_type": "markdown",
   "metadata": {},
   "source": [
    "### Objectives\n",
    "I don't have enough context of the US pubic Health sector, but for the seak of the project I'm going to suppose that ther are inequalities in the medical costs among mothers with more than one child or for people in different areas of the country. That is why I'm going to find out and come with some actions to close this gap. "
   ]
  },
  {
   "cell_type": "code",
   "execution_count": 39,
   "metadata": {},
   "outputs": [],
   "source": [
    "#import all the necessary libraries\n",
    "import csv"
   ]
  },
  {
   "cell_type": "code",
   "execution_count": 40,
   "metadata": {},
   "outputs": [],
   "source": [
    "with open('insurance.csv') as insurance_csv:\n",
    "    insurance_dic = csv.DictReader(insurance_csv)\n",
    "    insurance_list = []\n",
    "    for row in insurance_dic:\n",
    "        insurance_list.append(row)"
   ]
  },
  {
   "cell_type": "code",
   "execution_count": null,
   "metadata": {},
   "outputs": [],
   "source": []
  },
  {
   "cell_type": "markdown",
   "metadata": {},
   "source": [
    "### People's class\n",
    "I'm creating a people class to create different objects that store all the peoples characteristics"
   ]
  },
  {
   "cell_type": "code",
   "execution_count": 44,
   "metadata": {},
   "outputs": [
    {
     "name": "stdout",
     "output_type": "stream",
     "text": [
      "This person has an age of 19 years, is a female, has a BMI of 27.9, has 0 children. Smokes? yes.         Lives in the southwest and pays a total of 16884.924 USD for medical insurance\n"
     ]
    }
   ],
   "source": [
    "class Person:\n",
    "    def __init__(self, age, sex, bmi, children, smoker, region, charges):\n",
    "        self.age = age\n",
    "        self.sex = sex\n",
    "        self.bmi = bmi\n",
    "        self.children = children\n",
    "        self.smoker = smoker\n",
    "        self.region = region\n",
    "        self.charges = charges\n",
    "    \n",
    "    def person_info(self):\n",
    "        print('This person has an age of {} years, is a {}, has a BMI of {}, has {} children. Smokes? {}. \\\n",
    "        Lives in the {} and pays a total of {} USD for medical insurance'.format(self.age, self.sex, self.bmi, \\\n",
    "        self.children, self.smoker, self.region, self.charges))\n",
    "\n",
    "person_1 = Person(insurance_list[0]['age'], insurance_list[0]['sex'], insurance_list[0]['bmi'], \\\n",
    "                  insurance_list[0]['children'], insurance_list[0]['smoker'], insurance_list[0]['region'], \\\n",
    "                  insurance_list[0]['charges'])\n",
    "person_1.person_info()"
   ]
  },
  {
   "cell_type": "code",
   "execution_count": null,
   "metadata": {},
   "outputs": [],
   "source": []
  },
  {
   "cell_type": "code",
   "execution_count": null,
   "metadata": {},
   "outputs": [],
   "source": []
  },
  {
   "cell_type": "code",
   "execution_count": null,
   "metadata": {},
   "outputs": [],
   "source": []
  }
 ],
 "metadata": {
  "kernelspec": {
   "display_name": "Python 3",
   "language": "python",
   "name": "python3"
  },
  "language_info": {
   "codemirror_mode": {
    "name": "ipython",
    "version": 3
   },
   "file_extension": ".py",
   "mimetype": "text/x-python",
   "name": "python",
   "nbconvert_exporter": "python",
   "pygments_lexer": "ipython3",
   "version": "3.7.7"
  }
 },
 "nbformat": 4,
 "nbformat_minor": 4
}
